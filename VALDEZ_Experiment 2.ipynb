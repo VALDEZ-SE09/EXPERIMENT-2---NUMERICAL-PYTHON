{
 "cells": [
  {
   "cell_type": "markdown",
   "id": "197a9150-aca7-4082-8606-c9d701330834",
   "metadata": {},
   "source": [
    "###EXPERIMENT 2 : Numerical Python"
   ]
  },
  {
   "cell_type": "markdown",
   "id": "2776a359-449e-4128-8314-c31c95bd7baf",
   "metadata": {},
   "source": [
    "##NORMALIZATION PROBLEM : Create a random 5 x 5 ndarray\n",
    "\n",
    "Objective : Normalize a 5 x 5 randomly generated ndarray and save the normalized array. Normalization is a common technique in data analysis in which \n",
    "the goal is to center and scale the data.\n",
    "\n",
    "Expected Behavior: The program should generate a 5 x 5 random array, normalize it, and save the result to a file named X_normalized.npy. \n",
    "The resulting array will have values centered around 0 and scaled based on the standard deviation of the original array.\n",
    "\n"
   ]
  },
  {
   "cell_type": "code",
   "execution_count": 4,
   "id": "4543cfdd-6b91-4fc5-bc8b-641820d2aa6c",
   "metadata": {},
   "outputs": [
    {
     "name": "stdout",
     "output_type": "stream",
     "text": [
      "Original Array (X):\n",
      " [[0.28686405 0.13500523 0.91804272 0.0320217  0.02183962]\n",
      " [0.09936953 0.37149395 0.57507955 0.67440282 0.5587366 ]\n",
      " [0.32365083 0.87676855 0.26681513 0.2005527  0.77234392]\n",
      " [0.19587087 0.4453143  0.61145343 0.95621327 0.08963091]\n",
      " [0.77445151 0.23085862 0.29064879 0.69059698 0.8940495 ]]\n",
      "\n",
      "Normalized Array (X_normalized):\n",
      " [[-0.55333211 -1.06315436  1.56566833 -1.40889189 -1.44307528]\n",
      " [-1.18279094 -0.26921164  0.41426835  0.74771761  0.3594016 ]\n",
      " [-0.42983112  1.4271022  -0.6206406  -0.84309761  1.07652661]\n",
      " [-0.85881552 -0.02138109  0.53638316  1.69381495 -1.21548556]\n",
      " [ 1.08360225 -0.74135423 -0.54062596  0.80208484  1.48511803]]\n"
     ]
    }
   ],
   "source": [
    "import numpy as np\n",
    "\n",
    "#function to create a random 5x5 ndarray\n",
    "X = np.random.rand(5,5)\n",
    "\n",
    "#original array\n",
    "print (\"Original Array (X):\\n\", X)\n",
    "\n",
    "#.mean and .std calls\n",
    "mean_X = X.mean()\n",
    "std_X = X.std()\n",
    "\n",
    "#normalization expression\n",
    "X_normalized = (X- mean_X) / std_X\n",
    "\n",
    "#normalize the array\n",
    "print(\"\\nNormalized Array (X_normalized):\\n\", X_normalized)\n",
    "\n",
    "#save noramlized ndarray as npy\n",
    "np.save('X_normalized.npy', X_normalized)\n"
   ]
  },
  {
   "cell_type": "markdown",
   "id": "d08b2f31-b657-4c63-870e-048637b2940c",
   "metadata": {},
   "source": [
    "##DIVISIBLE BY 3 PROBLEM : Create a 10x10 ndarray\n",
    "\n",
    "Objective : Create a 10 x 10 ndarray where each element is the square of the first 100 positive integers. After creating the array, the goal is to extract all elements that are  divisble by 3. \n",
    "\n",
    "Expected Behavior : The program should generate a 10 x 10 ndarray A where each element is the square of a positive integer from 1 to 100. Afterward, it will identify and extract all elements divisible by 3 and save these elements to a file names div_by_3.npy"
   ]
  },
  {
   "cell_type": "code",
   "execution_count": 7,
   "id": "435a2c17-104c-429b-b672-2b76f72b7a33",
   "metadata": {},
   "outputs": [
    {
     "name": "stdout",
     "output_type": "stream",
     "text": [
      "10 x 10 Array (A):\n",
      " [[    1     4     9    16    25    36    49    64    81   100]\n",
      " [  121   144   169   196   225   256   289   324   361   400]\n",
      " [  441   484   529   576   625   676   729   784   841   900]\n",
      " [  961  1024  1089  1156  1225  1296  1369  1444  1521  1600]\n",
      " [ 1681  1764  1849  1936  2025  2116  2209  2304  2401  2500]\n",
      " [ 2601  2704  2809  2916  3025  3136  3249  3364  3481  3600]\n",
      " [ 3721  3844  3969  4096  4225  4356  4489  4624  4761  4900]\n",
      " [ 5041  5184  5329  5476  5625  5776  5929  6084  6241  6400]\n",
      " [ 6561  6724  6889  7056  7225  7396  7569  7744  7921  8100]\n",
      " [ 8281  8464  8649  8836  9025  9216  9409  9604  9801 10000]]\n",
      "\n",
      "Elements divisible by 3 (div_by_3):\n",
      " [   9   36   81  144  225  324  441  576  729  900 1089 1296 1521 1764\n",
      " 2025 2304 2601 2916 3249 3600 3969 4356 4761 5184 5625 6084 6561 7056\n",
      " 7569 8100 8649 9216 9801]\n"
     ]
    }
   ],
   "source": [
    "import numpy as np\n",
    "\n",
    "#creating a 10x10 ndarray with squares of first 100 positive integers\n",
    "A = np.arange (1, 101)**2\n",
    "\n",
    "#reshaping array into 10x10\n",
    "A = A.reshape ((10,10))\n",
    "\n",
    "#original 10x10 array\n",
    "print (\"10 x 10 Array (A):\\n\", A)\n",
    "\n",
    "#finding elements divisible by 3\n",
    "div_by_3 = A[A % 3 == 0]\n",
    "\n",
    "#elements divisible by 3\n",
    "print (\"\\nElements divisible by 3 (div_by_3):\\n\", div_by_3)\n",
    "\n",
    "#saving elements into npy file\n",
    "np.save('div_by_3.npy', div_by_3)"
   ]
  }
 ],
 "metadata": {
  "kernelspec": {
   "display_name": "Python 3 (ipykernel)",
   "language": "python",
   "name": "python3"
  },
  "language_info": {
   "codemirror_mode": {
    "name": "ipython",
    "version": 3
   },
   "file_extension": ".py",
   "mimetype": "text/x-python",
   "name": "python",
   "nbconvert_exporter": "python",
   "pygments_lexer": "ipython3",
   "version": "3.12.4"
  }
 },
 "nbformat": 4,
 "nbformat_minor": 5
}
